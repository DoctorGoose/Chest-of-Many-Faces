{
 "cells": [
  {
   "cell_type": "code",
   "execution_count": 1,
   "metadata": {},
   "outputs": [
    {
     "name": "stdout",
     "output_type": "stream",
     "text": [
      "Loading LLAMA model\n",
      "Done\n"
     ]
    }
   ],
   "source": [
    "from lib import npc_generator_class\n",
    "import textwrap\n",
    "import minillm.executor as minillm\n",
    "llm, llm_config = minillm.load_llm('llama-13b-4bit', 'lib/llama-13b-4bit.pt')"
   ]
  },
  {
   "cell_type": "code",
   "execution_count": 3,
   "metadata": {},
   "outputs": [],
   "source": [
    "### Function to generate an NPC seed ###\n",
    "def npc_gen():\n",
    "    npc = npc_generator_class.NpcGenerator()\n",
    "    npc.race_gen()\n",
    "    npc.sex_gen()\n",
    "    npc.name_gen()\n",
    "    npc.alignment_gen()\n",
    "    npc.personality_gen()\n",
    "    npc.ideal_gen()\n",
    "    npc.bond_gen()\n",
    "    npc.flaw_gen()\n",
    "    npc.quirk_gen()\n",
    "    npc.physical_gen()\n",
    "    return npc      \n",
    "\n",
    "#Function to convert tuples to strings\n",
    "def convertTuple(tup):\n",
    "        # initialize an empty string\n",
    "    str = ''\n",
    "    for item in tup:\n",
    "        str = str + item + ' '\n",
    "    return str"
   ]
  },
  {
   "cell_type": "code",
   "execution_count": 11,
   "metadata": {},
   "outputs": [
    {
     "name": "stdout",
     "output_type": "stream",
     "text": [
      "You are roleplaying as an NPC in a fantasy setting. Your personality and traits\n",
      "can be described as:  Name:  Lilliana Malone Race:  Human Sex:  Female\n",
      "Alignment:  Lawful Neutral Personality:  This NPC seems tired and talks and\n",
      "walks slowly and kind of in a slumber. Ideal:  Power. Solitude and contemplation\n",
      "are paths toward mystical or magical power. (Evil) Bond:  Finding my teacher\n",
      "saved my life. Before meeting them I was on a dark path that likely would have\n",
      "led to my untimely demise. Flaw:  I'll say anything to avoid having to do extra\n",
      "work. Quirk:  Often zones out  Please write a short background for the NPC in\n",
      "first person.\n"
     ]
    }
   ],
   "source": [
    "npc = npc_gen()\n",
    "description = npc_generator_class.stringout(npc)\n",
    "input_text = convertTuple((\"You are roleplaying as an NPC in a fantasy setting. Your personality and traits can be described as: \",\n",
    "convertTuple(description),\n",
    "\"Please write a short background for the NPC in first person.\"))\n",
    "\n",
    "print(textwrap.fill(input_text, 80))"
   ]
  },
  {
   "cell_type": "code",
   "execution_count": 12,
   "metadata": {},
   "outputs": [],
   "source": [
    "#Run LLM for output\n",
    "output = minillm.generate(\n",
    "    llm, \n",
    "    llm_config, \n",
    "    prompt=input_text, \n",
    "    min_length=200, \n",
    "    max_length=750, \n",
    "    top_p=0.95, \n",
    "    temperature=0.70,\n",
    "    top_k=50\n",
    ")"
   ]
  },
  {
   "cell_type": "code",
   "execution_count": 13,
   "metadata": {},
   "outputs": [
    {
     "name": "stdout",
     "output_type": "stream",
     "text": [
      "You are roleplaying as an NPC in a fantasy setting. Your personality and traits\n",
      "can be described as:  Name:  Lilliana Malone Race:  Human Sex:  Female\n",
      "Alignment:  Lawful Neutral Personality:  This NPC seems tired and talks and\n",
      "walks slowly and kind of in a slumber. Ideal:  Power. Solitude and contemplation\n",
      "are paths toward mystical or magical power. (Evil) Bond:  Finding my teacher\n",
      "saved my life. Before meeting them I was on a dark path that likely would have\n",
      "led to my untimely demise. Flaw:  I'll say anything to avoid having to do extra\n",
      "work. Quirk:  Often zones out  Please write a short background for the NPC in\n",
      "first person.  I've had a rough life, so I've been through a lot. My parents\n",
      "died when I was very young, and I was raised by my older brother. We worked as\n",
      "farmers, but one day a traveling band of bandits came to our town. They\n",
      "kidnapped my brother and I, and forced us into a life of slavery. They treated\n",
      "me with respect, and I was taught to fight and defend myself. I was trained to\n",
      "fight by my brother, and when I was strong enough I took a job with the guards\n",
      "in the town. I learned a lot there, and I learned to fight even more. After many\n",
      "years of guarding the town, a group of bandits attacked. I fought bravely, and I\n",
      "was able to hold them off for a while, but they were too strong and they\n",
      "overwhelmed me. As they were about to kill me, I was rescued by a man named\n",
      "Sartorius. He was a mage, and he was able to hold off the bandits long enough\n",
      "for me to escape. He trained me in the ways of magic, and I learned much from\n",
      "him. I eventually left to travel the world, and I've been learning magic ever\n",
      "since. I've learned a lot of things since then, and I've gained quite a bit of\n",
      "knowledge in the ways of magic. I've learned that I'm a wizard, and I'm quite\n",
      "powerful. I've learned that I can cast fireballs, and I can summon creatures.\n",
      "I've learned that I can use my magic to protect those that I care about, and I\n",
      "will do everything in my power to protect them. I've learned that I'm good at\n",
      "what I do, and I've learned that I can do anything that I put my mind to. I've\n",
      "learned that I'm good at what I do, and I've learned that I can do anything that\n",
      "I put my mind to. I've learned that I'm good at what I do, and I've learned that\n",
      "I can do anything that I put my mind to. I've learned that I'm good at what I\n",
      "do, and I've learned that I can do anything that I put my mind to. I've learned\n",
      "that I'm good at what I do, and I've learned that I can do anything that I put\n",
      "my mind to. I've learned that I'm good at what I do, and I've learned that I can\n",
      "do anything that I put my mind to. I've learned that I'm good at what I do, and\n",
      "I've learned that I can do anything that I put my mind to. I'\n"
     ]
    }
   ],
   "source": [
    "print(textwrap.fill(output, 80))"
   ]
  },
  {
   "cell_type": "code",
   "execution_count": null,
   "metadata": {},
   "outputs": [],
   "source": []
  }
 ],
 "metadata": {
  "kernelspec": {
   "display_name": "Ro",
   "language": "python",
   "name": "python3"
  },
  "language_info": {
   "codemirror_mode": {
    "name": "ipython",
    "version": 3
   },
   "file_extension": ".py",
   "mimetype": "text/x-python",
   "name": "python",
   "nbconvert_exporter": "python",
   "pygments_lexer": "ipython3",
   "version": "3.11.3"
  },
  "orig_nbformat": 4
 },
 "nbformat": 4,
 "nbformat_minor": 2
}
